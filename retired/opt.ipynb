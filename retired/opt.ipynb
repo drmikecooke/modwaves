{
 "cells": [
  {
   "cell_type": "code",
   "execution_count": 1,
   "id": "b45f321e-4a4c-4cec-a1d8-a4de54c25643",
   "metadata": {},
   "outputs": [],
   "source": [
    "import numpy as np\n",
    "from scipy.optimize import root\n",
    "\n",
    "def F(A):\n",
    "    return [A[0]**2-2]"
   ]
  },
  {
   "cell_type": "code",
   "execution_count": 3,
   "id": "25774288-c540-43bd-8772-522f2ce808ef",
   "metadata": {},
   "outputs": [],
   "source": [
    "sol=root(F,[1])"
   ]
  },
  {
   "cell_type": "code",
   "execution_count": 4,
   "id": "0be1aa17-a992-4eba-a2c7-bb26c276c4dd",
   "metadata": {},
   "outputs": [
    {
     "data": {
      "text/plain": [
       " message: The solution converged.\n",
       " success: True\n",
       "  status: 1\n",
       "     fun: [-4.441e-16]\n",
       "       x: [ 1.414e+00]\n",
       "  method: hybr\n",
       "    nfev: 5\n",
       "    fjac: [[-1.000e+00]]\n",
       "       r: [-2.828e+00]\n",
       "     qtf: [ 8.882e-16]"
      ]
     },
     "execution_count": 4,
     "metadata": {},
     "output_type": "execute_result"
    }
   ],
   "source": [
    "root(F,sol.x)"
   ]
  },
  {
   "cell_type": "code",
   "execution_count": null,
   "id": "4855ccd7-bef9-406b-a088-59eba7e0f8d3",
   "metadata": {},
   "outputs": [],
   "source": []
  }
 ],
 "metadata": {
  "kernelspec": {
   "display_name": "Python 3 (ipykernel)",
   "language": "python",
   "name": "python3"
  },
  "language_info": {
   "codemirror_mode": {
    "name": "ipython",
    "version": 3
   },
   "file_extension": ".py",
   "mimetype": "text/x-python",
   "name": "python",
   "nbconvert_exporter": "python",
   "pygments_lexer": "ipython3",
   "version": "3.11.2"
  }
 },
 "nbformat": 4,
 "nbformat_minor": 5
}
