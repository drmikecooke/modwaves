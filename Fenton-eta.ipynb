{
 "cells": [
  {
   "cell_type": "markdown",
   "id": "b13980be-3522-4066-87ac-347d6f4e5b92",
   "metadata": {},
   "source": [
    "# Comparison of $\\eta$ result with Fenton's Fourier.exe\n",
    "\n",
    "use waterwaves.py code"
   ]
  },
  {
   "cell_type": "code",
   "execution_count": 1,
   "id": "4304ff61-7326-4a0f-ad91-5ba062b3707f",
   "metadata": {},
   "outputs": [],
   "source": [
    "import matplotlib.pyplot as plt\n",
    "import numpy as np\n",
    "\n",
    "from waterwaves import unpack,IEj,wave"
   ]
  },
  {
   "cell_type": "code",
   "execution_count": 2,
   "id": "bff453ed-f696-44f6-93ec-baa379b161b0",
   "metadata": {},
   "outputs": [],
   "source": [
    "def get(n): # Read Fenton result n\n",
    "    with open(f\"moderate/{n:02d}.txt\",\"rt\") as fenton:\n",
    "        comp=fenton.read()\n",
    "    \n",
    "    comp=comp.split('\\n')\n",
    "    \n",
    "    targets=['d','H','c','Q','R','q','r']\n",
    "    data={}\n",
    "    jBE=[]\n",
    "    for line in comp:\n",
    "        if line:\n",
    "            for target in targets:\n",
    "                if f'({target})' in line:\n",
    "                    data[target]=float(line.split('\\t')[1]) #use first column of table in fenton file (L=2pi)\n",
    "            if '0'<=line[1]<='9':\n",
    "                jBE+=[line.split('\\t')]\n",
    "            \n",
    "    data['Ub']=data.pop('c') # Ub is wave speed in my code\n",
    "    if not 'd' in data:\n",
    "        data['d']=0 # deep water\n",
    "    J,B,E=np.array(jBE).T\n",
    "    return data,J.astype(int),B.astype(float),E.astype(float)"
   ]
  },
  {
   "cell_type": "code",
   "execution_count": null,
   "id": "b17e1ab8-9692-452f-b9f8-6787dfdac482",
   "metadata": {},
   "outputs": [],
   "source": [
    "X=np.linspace(0,np.pi,100)\n",
    "N,d=20,2*np.pi\n",
    "for n in range(2,12,2): # Fenton.exe happily went beyond H/d=11% but results were wobbly/unstable\n",
    "    data,J,B,E=get(n) # Fenton result n\n",
    "    H=0.02*n*np.pi\n",
    "    sol=wave(N,H,d=d)\n",
    "    if not sol.success: # weed out fails and print analysis\n",
    "        print(sol)\n",
    "        continue\n",
    "    Ej,Bj,Ub,Q,R=unpack(sol.x)\n",
    "    plt.plot(X,IEj([d,*Ej],X),label=f\"Num: H/d={H/d:.0%}\")    \n",
    "    plt.plot(X,IEj([d,*E.astype(float)],X),label=f\"Fenton: H/d={data['H']/d:.0%}\")\n",
    "plt.legend()\n",
    "plt.title(f'Comparison even H/L%')\n",
    "plt.show()"
   ]
  },
  {
   "cell_type": "code",
   "execution_count": null,
   "id": "9c9c2f81-10d0-4ffd-952e-45f2ee84fee7",
   "metadata": {},
   "outputs": [],
   "source": [
    "X=np.linspace(0,np.pi,100)\n",
    "N,d=20,2*np.pi\n",
    "for n in range(1,12,2):\n",
    "    data,J,B,E=get(n) # Fenton result n\n",
    "    H=0.02*n*np.pi\n",
    "    sol=wave(N,H,d=d)\n",
    "    if not sol.success: # weed out fails and print analysis\n",
    "        print(sol)\n",
    "        continue\n",
    "    Ej,Bj,Ub,Q,R=unpack(sol.x)\n",
    "    plt.plot(X,IEj([d,*Ej],X),label=f\"Num: H/d={H/d:.0%}\")    \n",
    "    plt.plot(X,IEj([d,*E.astype(float)],X),label=f\"Fenton: H/d={data['H']/d:.0%}\")\n",
    "plt.legend()\n",
    "plt.title(f'Comparison odd H/L%')\n",
    "plt.show()"
   ]
  },
  {
   "cell_type": "code",
   "execution_count": null,
   "id": "a02118dc-695f-4710-9d57-8cb00473fd10",
   "metadata": {},
   "outputs": [],
   "source": [
    "X=np.linspace(0,np.pi,200)\n",
    "# Deviation increases as highest wave approached, reducing upper limit (13=12+1), shows deviation for less high waves\n",
    "for n in range(2,12,2): \n",
    "    data,J,B,E=get(n) # Fenton result n\n",
    "    H=0.02*n*np.pi\n",
    "    sol=wave(N,H,d=d)\n",
    "    if not sol.success: # weed out hard fails and print analysis\n",
    "        print(sol)\n",
    "        continue\n",
    "    Ej,Bj,Ub,Q,R=unpack(sol.x)\n",
    "    Fenton=IEj([d,*E.astype(float)],X)\n",
    "    Cooke=IEj([d,*Ej],X)\n",
    "    plt.plot(X,Fenton-Cooke,label=f\"Fenton-Num.: H/d={H/2/np.pi:.0%}\")\n",
    "plt.legend()\n",
    "plt.title('Difference: Fenton $-$ my code\\nH/d% even in range 2$-$12%')\n",
    "plt.show()"
   ]
  },
  {
   "cell_type": "code",
   "execution_count": null,
   "id": "b769b32b-ef5b-4804-b729-a37433b3a140",
   "metadata": {},
   "outputs": [],
   "source": [
    "X=np.linspace(0,np.pi,200)\n",
    "# Deviation increases as highest wave approached, reducing upper limit (13=12+1), shows deviation for less high waves\n",
    "for n in range(1,12,2): \n",
    "    data,J,B,E=get(n) # Fenton result n\n",
    "    H=0.02*n*np.pi\n",
    "    sol=wave(N,H,d=d)\n",
    "    if not sol.success: # weed out hard fails and print analysis\n",
    "        print(sol)\n",
    "        continue\n",
    "    Ej,Bj,Ub,Q,R=unpack(sol.x)\n",
    "    Fenton=IEj([d,*E.astype(float)],X)\n",
    "    Cooke=IEj([d,*Ej],X)\n",
    "    plt.plot(X,Fenton-Cooke,label=f\"Fenton-Num.: H/d={H/d:.0%}\")\n",
    "plt.legend()\n",
    "plt.title('Difference: Fenton $-$ my code\\nH/d% odd in range 1$-$11%')\n",
    "plt.show()"
   ]
  },
  {
   "cell_type": "code",
   "execution_count": null,
   "id": "cb7dfa03-caf3-4628-a907-d23636086baa",
   "metadata": {},
   "outputs": [],
   "source": []
  }
 ],
 "metadata": {
  "kernelspec": {
   "display_name": "Python 3 (ipykernel)",
   "language": "python",
   "name": "python3"
  },
  "language_info": {
   "codemirror_mode": {
    "name": "ipython",
    "version": 3
   },
   "file_extension": ".py",
   "mimetype": "text/x-python",
   "name": "python",
   "nbconvert_exporter": "python",
   "pygments_lexer": "ipython3",
   "version": "3.11.2"
  }
 },
 "nbformat": 4,
 "nbformat_minor": 5
}
